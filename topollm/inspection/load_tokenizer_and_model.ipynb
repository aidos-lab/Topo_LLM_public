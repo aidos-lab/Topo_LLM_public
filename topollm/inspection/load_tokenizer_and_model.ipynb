{
 "cells": [
  {
   "cell_type": "code",
   "execution_count": null,
   "metadata": {},
   "outputs": [],
   "source": [
    "%load_ext autoreload\n",
    "%autoreload 2"
   ]
  },
  {
   "cell_type": "code",
   "execution_count": null,
   "metadata": {},
   "outputs": [],
   "source": [
    "import pathlib\n",
    "import pprint\n",
    "\n",
    "from hydra import compose, initialize_config_dir\n",
    "\n",
    "from topollm.config_classes.constants import HYDRA_CONFIGS_BASE_PATH\n",
    "from topollm.config_classes.main_config import MainConfig\n",
    "from topollm.logging.initialize_configuration_and_log import initialize_configuration"
   ]
  },
  {
   "cell_type": "code",
   "execution_count": null,
   "metadata": {},
   "outputs": [],
   "source": [
    "# Using hydra in Jupyter notebook:\n",
    "# https://github.com/facebookresearch/hydra/blob/main/examples/jupyter_notebooks/compose_configs_in_notebook.ipynb\n",
    "abs_config_dir = pathlib.Path(HYDRA_CONFIGS_BASE_PATH)\n",
    "with initialize_config_dir(version_base=None, config_dir=str(abs_config_dir)):\n",
    "    config = compose(\n",
    "        config_name=\"main_config\",\n",
    "        overrides=[\"feature_flags.finetuning.use_wandb=false\", \"finetuning=finetuning_for_token_classification\"],\n",
    "        return_hydra_config=True,\n",
    "    )\n",
    "    print(pprint.pformat(config))\n",
    "\n",
    "    main_config: MainConfig = initialize_configuration(\n",
    "        config=config,\n",
    "    )"
   ]
  },
  {
   "cell_type": "code",
   "execution_count": null,
   "metadata": {},
   "outputs": [],
   "source": []
  }
 ],
 "metadata": {
  "kernelspec": {
   "display_name": ".venv",
   "language": "python",
   "name": "python3"
  },
  "language_info": {
   "codemirror_mode": {
    "name": "ipython",
    "version": 3
   },
   "file_extension": ".py",
   "mimetype": "text/x-python",
   "name": "python",
   "nbconvert_exporter": "python",
   "pygments_lexer": "ipython3",
   "version": "3.10.13"
  }
 },
 "nbformat": 4,
 "nbformat_minor": 2
}
