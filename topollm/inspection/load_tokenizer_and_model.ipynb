{
 "cells": [
  {
   "cell_type": "code",
   "execution_count": null,
   "metadata": {},
   "outputs": [],
   "source": [
    "%load_ext autoreload\n",
    "%autoreload 2"
   ]
  },
  {
   "cell_type": "code",
   "execution_count": null,
   "metadata": {},
   "outputs": [],
   "source": [
    "import logging\n",
    "import pathlib\n",
    "import pprint\n",
    "from logging import Formatter\n",
    "from logging.handlers import RotatingFileHandler\n",
    "\n",
    "from hydra import compose, initialize_config_dir\n",
    "from rich.console import Console\n",
    "from rich.logging import RichHandler\n",
    "\n",
    "from topollm.config_classes.constants import HYDRA_CONFIGS_BASE_PATH\n",
    "from topollm.config_classes.main_config import MainConfig\n",
    "from topollm.logging.initialize_configuration_and_log import initialize_configuration\n",
    "\n",
    "LOGFORMAT_FILE = \"[%(asctime)s][%(levelname)8s][%(name)s] %(message)s (%(filename)s:%(lineno)s)\"\n",
    "LOGFORMAT_RICH = \"%(message)s\"\n",
    "\n",
    "error_console = Console(stderr=True)\n",
    "\n",
    "rich_handler = RichHandler(console=error_console)\n",
    "\n",
    "rich_handler.setFormatter(Formatter(LOGFORMAT_RICH))\n",
    "\n",
    "rotating_file_path = pathlib.Path(\n",
    "    \"logs\",\n",
    "    \"load_tokenizer_and_model.log\",\n",
    ")\n",
    "rotating_file_path.parent.mkdir(exist_ok=True, parents=True)\n",
    "rotating_file_handler = RotatingFileHandler(\n",
    "    rotating_file_path,\n",
    "    maxBytes=1024 * 1024 * 10,  # 10Mb\n",
    "    backupCount=10,\n",
    ")\n",
    "\n",
    "logging.basicConfig(\n",
    "    level=logging.INFO,\n",
    "    format=LOGFORMAT_FILE,\n",
    "    handlers=[\n",
    "        rich_handler,\n",
    "        rotating_file_handler,\n",
    "    ],\n",
    ")\n",
    "\n",
    "logger = logging.getLogger(\"load_tokenizer_and_model\")"
   ]
  },
  {
   "cell_type": "code",
   "execution_count": null,
   "metadata": {},
   "outputs": [],
   "source": [
    "# Using hydra in Jupyter notebook:\n",
    "# https://github.com/facebookresearch/hydra/blob/main/examples/jupyter_notebooks/compose_configs_in_notebook.ipynb\n",
    "abs_config_dir = pathlib.Path(HYDRA_CONFIGS_BASE_PATH)\n",
    "with initialize_config_dir(version_base=None, config_dir=str(abs_config_dir)):\n",
    "    config = compose(\n",
    "        config_name=\"main_config\",\n",
    "        overrides=[\"feature_flags.finetuning.use_wandb=false\", \"finetuning=finetuning_for_token_classification\"],\n",
    "        return_hydra_config=True,\n",
    "    )\n",
    "    logger.info(pprint.pformat(config, indent=4))\n",
    "\n",
    "    main_config: MainConfig = initialize_configuration(\n",
    "        config=config,\n",
    "        logger=logger,\n",
    "    )"
   ]
  },
  {
   "cell_type": "code",
   "execution_count": null,
   "metadata": {},
   "outputs": [],
   "source": []
  },
  {
   "cell_type": "code",
   "execution_count": null,
   "metadata": {},
   "outputs": [],
   "source": []
  }
 ],
 "metadata": {
  "kernelspec": {
   "display_name": ".venv",
   "language": "python",
   "name": "python3"
  },
  "language_info": {
   "codemirror_mode": {
    "name": "ipython",
    "version": 3
   },
   "file_extension": ".py",
   "mimetype": "text/x-python",
   "name": "python",
   "nbconvert_exporter": "python",
   "pygments_lexer": "ipython3",
   "version": "3.10.13"
  }
 },
 "nbformat": 4,
 "nbformat_minor": 2
}
