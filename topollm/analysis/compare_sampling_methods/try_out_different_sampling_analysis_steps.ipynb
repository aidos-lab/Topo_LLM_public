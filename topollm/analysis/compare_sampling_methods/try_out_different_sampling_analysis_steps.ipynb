{
 "cells": [
  {
   "cell_type": "code",
   "execution_count": null,
   "metadata": {},
   "outputs": [],
   "source": [
    "import logging\n",
    "import pathlib\n",
    "import sys\n",
    "\n",
    "from pandas import DataFrame\n",
    "\n",
    "from topollm.analysis.compare_sampling_methods.run_general_comparisons import (\n",
    "    load_and_concatenate_saved_dataframes,\n",
    ")\n",
    "from topollm.config_classes.constants import TOPO_LLM_REPOSITORY_BASE_PATH\n",
    "\n",
    "default_logger: logging.Logger = logging.getLogger(name=__name__)\n",
    "# Add stdout handler to default logger\n",
    "default_logger.addHandler(\n",
    "    hdlr=logging.StreamHandler(\n",
    "        stream=sys.stdout,\n",
    "    ),\n",
    ")\n",
    "\n",
    "logger: logging.Logger = default_logger"
   ]
  },
  {
   "cell_type": "code",
   "execution_count": null,
   "metadata": {},
   "outputs": [],
   "source": [
    "comparisons_folder_base_path = pathlib.Path(\n",
    "    TOPO_LLM_REPOSITORY_BASE_PATH,\n",
    "    \"data/analysis/sample_sizes/\",\n",
    "    \"run_general_comparisons/\",\n",
    "    \"array_truncation_size=5000/analysis/twonn/\",\n",
    ")"
   ]
  },
  {
   "cell_type": "code",
   "execution_count": null,
   "metadata": {},
   "outputs": [],
   "source": [
    "concatenated_df: DataFrame = load_and_concatenate_saved_dataframes(\n",
    "    root_dir=comparisons_folder_base_path,\n",
    ")\n",
    "\n",
    "concatenated_df.info()"
   ]
  },
  {
   "cell_type": "code",
   "execution_count": null,
   "metadata": {},
   "outputs": [],
   "source": [
    "columns_to_investigate: list[str] = [\n",
    "    \"data_full\",\n",
    "    \"data_subsampling_full\",\n",
    "]\n",
    "\n",
    "for column_name in columns_to_investigate:\n",
    "    print(30 * \"=\")\n",
    "    print(\n",
    "        f\"Unique values in column '{column_name = }':\",\n",
    "    )\n",
    "    print(\n",
    "        concatenated_df[column_name].unique(),\n",
    "    )"
   ]
  },
  {
   "cell_type": "code",
   "execution_count": null,
   "metadata": {},
   "outputs": [],
   "source": [
    "column_name = \"model_full\"\n",
    "\n",
    "concatenated_df[column_name].unique()"
   ]
  },
  {
   "cell_type": "code",
   "execution_count": null,
   "metadata": {},
   "outputs": [],
   "source": [
    "# Investigate the influence of the data subsampling method on the results\n",
    "\n",
    "from pandas.core.frame import DataFrame\n",
    "\n",
    "from topollm.analysis.compare_sampling_methods.run_general_comparisons import filter_dataframe_based_on_filters_dict\n",
    "from topollm.config_classes.constants import NAME_PREFIXES_TO_FULL_DESCRIPTIONS\n",
    "\n",
    "data_full = concatenated_df[\"data_full\"].unique()[1]\n",
    "data_subsampling_split = concatenated_df[\"data_subsampling_split\"].unique()[2]\n",
    "data_subsampling_sampling_mode: str = \"random\"\n",
    "\n",
    "model_full = concatenated_df[\"model_full\"].unique()[0]\n",
    "\n",
    "concatenated_filters_dict = {\n",
    "    \"data_full\": data_full,\n",
    "    \"model_full\": model_full,\n",
    "    \"data_subsampling_split\": data_subsampling_split,\n",
    "    \"data_subsampling_sampling_mode\": data_subsampling_sampling_mode,\n",
    "    \"data_prep_sampling_method\": \"random\",\n",
    "    \"data_prep_sampling_samples\": 100_000,\n",
    "    NAME_PREFIXES_TO_FULL_DESCRIPTIONS[\"dedup\"]: \"array_deduplicator\",\n",
    "    \"local_estimates_samples\": 60_000,\n",
    "    \"n_neighbors\": 128,\n",
    "}\n",
    "\n",
    "filtered_concatenated_df: DataFrame = filter_dataframe_based_on_filters_dict(\n",
    "    df=concatenated_df,\n",
    "    filters_dict=concatenated_filters_dict,\n",
    ")\n",
    "\n",
    "print(f\"{filtered_concatenated_df.shape = }\")"
   ]
  },
  {
   "cell_type": "code",
   "execution_count": null,
   "metadata": {},
   "outputs": [],
   "source": [
    "filtered_concatenated_df"
   ]
  },
  {
   "cell_type": "code",
   "execution_count": null,
   "metadata": {},
   "outputs": [],
   "source": [
    "# For every occurence of value in \"data_subsampling_number_of_samples\",\n",
    "# check how many rows are present in the filtered dataframe\n",
    "\n",
    "data_subsampling_number_of_samples_values = filtered_concatenated_df[\"data_subsampling_number_of_samples\"].unique()\n",
    "\n",
    "for data_subsampling_number_of_samples in data_subsampling_number_of_samples_values:\n",
    "    data_subsampling_number_of_samples_filters_dict = {\n",
    "        \"data_subsampling_number_of_samples\": data_subsampling_number_of_samples,\n",
    "    }\n",
    "\n",
    "    filtered_concatenated_df_for_number_of_samples: DataFrame = filter_dataframe_based_on_filters_dict(\n",
    "        df=filtered_concatenated_df,\n",
    "        filters_dict=data_subsampling_number_of_samples_filters_dict,\n",
    "    )\n",
    "\n",
    "    print(\n",
    "        f\"{data_subsampling_number_of_samples = }: {filtered_concatenated_df_for_number_of_samples.shape = }\",\n",
    "    )\n",
    "\n",
    "print(\"Unique data_subsampling_sampling_seed:\\n\", filtered_concatenated_df[\"data_subsampling_sampling_seed\"].unique())"
   ]
  },
  {
   "cell_type": "code",
   "execution_count": null,
   "metadata": {},
   "outputs": [],
   "source": [
    "filtered_concatenated_df"
   ]
  },
  {
   "cell_type": "code",
   "execution_count": null,
   "metadata": {},
   "outputs": [],
   "source": [
    "from topollm.analysis.compare_sampling_methods.make_plots import (\n",
    "    Y_AXIS_LIMITS_ONLY_FULL,\n",
    "    create_boxplot_of_mean_over_different_sampling_seeds,\n",
    "    generate_fixed_params_text,\n",
    ")\n",
    "\n",
    "# # # #\n",
    "# START Additional data cleaning:\n",
    "# Remove those samples where \"array_data.size\" is smaller than 30_000\n",
    "\n",
    "filtered_concatenated_df_cleaned = filtered_concatenated_df[filtered_concatenated_df[\"array_data.size\"] >= 50_000]\n",
    "\n",
    "# END Additional data cleaning\n",
    "# # # #\n",
    "\n",
    "\n",
    "data_for_different_data_subsampling_number_of_samples_analysis_df: DataFrame = filtered_concatenated_df_cleaned\n",
    "\n",
    "fixed_params_text: str = generate_fixed_params_text(\n",
    "    filters_dict=concatenated_filters_dict,\n",
    ")\n",
    "\n",
    "x_column_name = \"data_subsampling_number_of_samples\"\n",
    "\n",
    "for y_min, y_max in Y_AXIS_LIMITS_ONLY_FULL.values():\n",
    "    # for y_min, y_max in [(6.0, 10.0)]:\n",
    "    create_boxplot_of_mean_over_different_sampling_seeds(\n",
    "        subset_local_estimates_df=data_for_different_data_subsampling_number_of_samples_analysis_df,\n",
    "        plot_save_path=None,  # TODO: Select path\n",
    "        raw_data_save_path=None,  # TODO: Select path\n",
    "        x_column_name=x_column_name,\n",
    "        y_column_name=\"array_data_truncated_mean\",\n",
    "        seed_column_name=\"data_subsampling_sampling_seed\",\n",
    "        fixed_params_text=fixed_params_text,\n",
    "        y_min=y_min,\n",
    "        y_max=y_max,\n",
    "        logger=logger,\n",
    "    )"
   ]
  },
  {
   "cell_type": "code",
   "execution_count": null,
   "metadata": {},
   "outputs": [],
   "source": [
    "filtered_concatenated_df_grouped = filtered_concatenated_df.groupby(\n",
    "    by=x_column_name,\n",
    "    observed=True,\n",
    ")"
   ]
  },
  {
   "cell_type": "code",
   "execution_count": null,
   "metadata": {},
   "outputs": [],
   "source": [
    "selected_group = filtered_concatenated_df_grouped.get_group(\n",
    "    name=2000,\n",
    ")\n",
    "\n",
    "selected_group[\"data_subsampling_sampling_seed\"]"
   ]
  },
  {
   "cell_type": "code",
   "execution_count": null,
   "metadata": {},
   "outputs": [],
   "source": []
  }
 ],
 "metadata": {
  "kernelspec": {
   "display_name": ".venv",
   "language": "python",
   "name": "python3"
  },
  "language_info": {
   "codemirror_mode": {
    "name": "ipython",
    "version": 3
   },
   "file_extension": ".py",
   "mimetype": "text/x-python",
   "name": "python",
   "nbconvert_exporter": "python",
   "pygments_lexer": "ipython3",
   "version": "3.12.7"
  }
 },
 "nbformat": 4,
 "nbformat_minor": 2
}
