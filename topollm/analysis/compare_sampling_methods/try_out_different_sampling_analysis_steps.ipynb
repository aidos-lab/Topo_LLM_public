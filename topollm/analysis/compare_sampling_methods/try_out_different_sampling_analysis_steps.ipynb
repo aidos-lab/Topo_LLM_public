{
 "cells": [
  {
   "cell_type": "code",
   "execution_count": null,
   "metadata": {},
   "outputs": [],
   "source": [
    "import logging\n",
    "import pathlib\n",
    "import sys\n",
    "\n",
    "from pandas import DataFrame\n",
    "\n",
    "from topollm.analysis.compare_sampling_methods.load_and_concatenate_saved_dataframes import (\n",
    "    load_and_concatenate_saved_dataframes,\n",
    ")\n",
    "from topollm.config_classes.constants import TOPO_LLM_REPOSITORY_BASE_PATH\n",
    "from topollm.typing.enums import Verbosity\n",
    "\n",
    "# Create a logger\n",
    "default_logger: logging.Logger = logging.getLogger(name=__name__)\n",
    "default_logger.setLevel(level=logging.DEBUG)\n",
    "\n",
    "# Create a stream handler\n",
    "stream_handler = logging.StreamHandler(stream=sys.stdout)\n",
    "stream_handler.setLevel(level=logging.DEBUG)\n",
    "\n",
    "# Create a formatter and attach it to the handler\n",
    "formatter = logging.Formatter(fmt=\"[%(asctime)s][%(levelname)8s][%(name)s] %(message)s (%(filename)s:%(lineno)s)\")\n",
    "stream_handler.setFormatter(fmt=formatter)\n",
    "\n",
    "# Add the handler to the logger\n",
    "if not default_logger.handlers:  # Avoid adding duplicate handlers in case the cell is re-executed\n",
    "    default_logger.addHandler(hdlr=stream_handler)\n",
    "\n",
    "verbosity: Verbosity = Verbosity.NORMAL\n",
    "logger: logging.Logger = default_logger\n",
    "\n",
    "# Example usage\n",
    "logger.debug(msg=\"This is a debug message.\")\n",
    "logger.info(msg=\"This is an info message.\")"
   ]
  },
  {
   "cell_type": "code",
   "execution_count": null,
   "metadata": {},
   "outputs": [],
   "source": [
    "comparisons_folder_base_path = pathlib.Path(\n",
    "    TOPO_LLM_REPOSITORY_BASE_PATH,\n",
    "    \"data/analysis/sample_sizes/\",\n",
    "    \"run_general_comparisons/\",\n",
    "    \"array_truncation_size=5000/\",\n",
    "    \"analysis/twonn/\",\n",
    ")\n",
    "\n",
    "concatenated_df: DataFrame = load_and_concatenate_saved_dataframes(\n",
    "    root_dir=comparisons_folder_base_path,\n",
    ")\n",
    "\n",
    "columns_to_investigate: list[str] = [\n",
    "    \"data_full\",\n",
    "    \"data_subsampling_full\",\n",
    "    \"model_partial_name\",\n",
    "]\n",
    "\n",
    "for column_name in columns_to_investigate:\n",
    "    logger.info(msg=30 * \"=\")\n",
    "    logger.info(\n",
    "        msg=f\"Unique values in column '{column_name = }':\",  # noqa: G004 - low overhead\n",
    "    )\n",
    "    logger.info(\n",
    "        msg=concatenated_df[column_name].unique(),\n",
    "    )\n",
    "\n",
    "concatenated_df.info()"
   ]
  },
  {
   "cell_type": "code",
   "execution_count": null,
   "metadata": {},
   "outputs": [],
   "source": [
    "concatenated_df[\"model_full\"].unique()"
   ]
  },
  {
   "cell_type": "code",
   "execution_count": null,
   "metadata": {},
   "outputs": [],
   "source": [
    "concatenated_df"
   ]
  },
  {
   "cell_type": "markdown",
   "metadata": {},
   "source": [
    "### You can run different analysis methods here"
   ]
  },
  {
   "cell_type": "code",
   "execution_count": null,
   "metadata": {},
   "outputs": [],
   "source": []
  }
 ],
 "metadata": {
  "kernelspec": {
   "display_name": ".venv",
   "language": "python",
   "name": "python3"
  },
  "language_info": {
   "codemirror_mode": {
    "name": "ipython",
    "version": 3
   },
   "file_extension": ".py",
   "mimetype": "text/x-python",
   "name": "python",
   "nbconvert_exporter": "python",
   "pygments_lexer": "ipython3",
   "version": "3.12.7"
  }
 },
 "nbformat": 4,
 "nbformat_minor": 2
}
