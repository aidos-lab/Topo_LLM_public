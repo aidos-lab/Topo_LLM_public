{
 "cells": [
  {
   "cell_type": "code",
   "execution_count": null,
   "metadata": {},
   "outputs": [],
   "source": [
    "import pathlib\n",
    "\n",
    "import pandas as pd\n",
    "\n",
    "from topollm.analysis.compare_sampling_methods.run_general_comparisons import filter_dataframe_based_on_filters_dict"
   ]
  },
  {
   "cell_type": "code",
   "execution_count": null,
   "metadata": {},
   "outputs": [],
   "source": [
    "data_folder_list = [\n",
    "    \"data-multiwoz21_split-train_ctxt-dataset_entry_samples-10000_feat-col-ner_tags/\",\n",
    "    \"data-multiwoz21_split-validation_ctxt-dataset_entry_samples-3000_feat-col-ner_tags/\",\n",
    "    \"data-multiwoz21_split-test_ctxt-dataset_entry_samples-3000_feat-col-ner_tags/\",\n",
    "    \"data-one-year-of-tsla-on-reddit_split-train_ctxt-dataset_entry_samples-10000_feat-col-ner_tags/\",\n",
    "    \"data-one-year-of-tsla-on-reddit_split-validation_ctxt-dataset_entry_samples-3000_feat-col-ner_tags/\",\n",
    "]\n",
    "\n",
    "selected_data_folder = data_folder_list[4]\n",
    "\n",
    "file_path = pathlib.Path(\n",
    "    \"/Users/ruppik/git-source/Topo_LLM/data/analysis/sample_sizes/run_general_comparisons/analysis/twonn/\",\n",
    "    selected_data_folder,\n",
    "    \"lvl-token/add-prefix-space-True_max-len-512/model-roberta-base_task-masked_lm/layer--1_agg-mean/norm-None/full_local_estimates_df.csv\",\n",
    ")\n",
    "\n",
    "results_base_directory_path: pathlib.Path = file_path.parent\n",
    "\n",
    "local_estimates_df: pd.DataFrame = pd.read_csv(\n",
    "    filepath_or_buffer=file_path,\n",
    ")\n",
    "\n",
    "local_estimates_df"
   ]
  },
  {
   "cell_type": "code",
   "execution_count": null,
   "metadata": {},
   "outputs": [],
   "source": [
    "# Select a subset of the data with the same parameters.\n",
    "# This allows comparing over different seeds.\n",
    "#\n",
    "# We do not fix the local_estimates_samples,\n",
    "# since we want to compare the results for different sample sizes.\n",
    "\n",
    "filters_dict = {\n",
    "    \"data_prep_sampling_method\": \"random\",\n",
    "    \"deduplication\": \"array_deduplicator\",\n",
    "    \"n_neighbors\": 128,\n",
    "    \"data_prep_sampling_samples\": 50000,\n",
    "}\n",
    "\n",
    "subset_local_estimates_df = filter_dataframe_based_on_filters_dict(df=local_estimates_df, filters_dict=filters_dict)\n",
    "\n",
    "subset_local_estimates_df"
   ]
  },
  {
   "cell_type": "code",
   "execution_count": null,
   "metadata": {},
   "outputs": [],
   "source": [
    "subset_local_estimates_df.describe()"
   ]
  },
  {
   "cell_type": "code",
   "execution_count": null,
   "metadata": {},
   "outputs": [],
   "source": [
    "from topollm.analysis.compare_sampling_methods.make_plots import (\n",
    "    create_boxplot_of_mean_over_different_sampling_seeds,\n",
    "    generate_fixed_params_text,\n",
    ")\n",
    "\n",
    "fixed_params_text: str = generate_fixed_params_text(filters_dict)\n",
    "\n",
    "for connect_points in [True, False]:\n",
    "    plot_save_path = pathlib.Path(\n",
    "        results_base_directory_path,\n",
    "        \"different_sampling_seeds\",\n",
    "        \"array_data_truncated_mean_boxplot_\"\n",
    "        f\"{filters_dict['n_neighbors']=}_{filters_dict['data_prep_sampling_samples']=}_{connect_points=}.pdf\",\n",
    "    )\n",
    "\n",
    "    create_boxplot_of_mean_over_different_sampling_seeds(\n",
    "        subset_local_estimates_df=subset_local_estimates_df,\n",
    "        plot_save_path=plot_save_path,\n",
    "        fixed_params_text=fixed_params_text,\n",
    "        y_min=6.5,\n",
    "        y_max=15.5,\n",
    "        show_plot=False,\n",
    "        connect_points=connect_points,\n",
    "    )"
   ]
  },
  {
   "cell_type": "code",
   "execution_count": null,
   "metadata": {},
   "outputs": [],
   "source": []
  }
 ],
 "metadata": {
  "kernelspec": {
   "display_name": ".venv",
   "language": "python",
   "name": "python3"
  },
  "language_info": {
   "codemirror_mode": {
    "name": "ipython",
    "version": 3
   },
   "file_extension": ".py",
   "mimetype": "text/x-python",
   "name": "python",
   "nbconvert_exporter": "python",
   "pygments_lexer": "ipython3",
   "version": "3.12.7"
  }
 },
 "nbformat": 4,
 "nbformat_minor": 2
}
